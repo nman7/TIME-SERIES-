{
  "nbformat": 4,
  "nbformat_minor": 0,
  "metadata": {
    "colab": {
      "name": "THEBASICTIMESERIES.ipynb",
      "version": "0.3.2",
      "provenance": [],
      "toc_visible": true
    },
    "kernelspec": {
      "name": "python3",
      "display_name": "Python 3"
    }
  },
  "cells": [
    {
      "cell_type": "markdown",
      "metadata": {
        "id": "_7kneikF71qV",
        "colab_type": "text"
      },
      "source": [
        "# TIME SERIES FORECASTING"
      ]
    },
    {
      "cell_type": "markdown",
      "metadata": {
        "id": "nteCC6lm8WRp",
        "colab_type": "text"
      },
      "source": [
        "**so here 'month data'  is in string so we have to convert to valid  date format**"
      ]
    },
    {
      "cell_type": "markdown",
      "metadata": {
        "id": "S7rld9r_8psG",
        "colab_type": "text"
      },
      "source": [
        "**converting to date format**"
      ]
    },
    {
      "cell_type": "code",
      "metadata": {
        "id": "Avdz7PoJ6jxv",
        "colab_type": "code",
        "colab": {}
      },
      "source": [
        "import pandas as pd\n",
        "from pandas import datetime\n",
        "def parser(x):\n",
        "  return datetime.strptime(x,'%Y-%m')\n",
        "data = pd.read_csv('sales-cars.csv', index_col = [0],parse_dates = [0],date_parser = parser)"
      ],
      "execution_count": 0,
      "outputs": []
    },
    {
      "cell_type": "code",
      "metadata": {
        "id": "owPlr8xn8DDy",
        "colab_type": "code",
        "outputId": "b55674fb-239f-4ac8-f010-3f2fee4e6d5d",
        "colab": {
          "base_uri": "https://localhost:8080/",
          "height": 138
        }
      },
      "source": [
        "print(data.tail())"
      ],
      "execution_count": 7,
      "outputs": [
        {
          "output_type": "stream",
          "text": [
            "            Sales\n",
            "Month            \n",
            "2018-08-01    408\n",
            "2018-09-01    490\n",
            "2018-10-01    420\n",
            "2018-11-01    520\n",
            "2018-12-01    480\n"
          ],
          "name": "stdout"
        }
      ]
    },
    {
      "cell_type": "code",
      "metadata": {
        "id": "ea0a1hbQ8FG8",
        "colab_type": "code",
        "outputId": "0d21c4c8-d431-4b44-c0f1-b34d35fd8772",
        "colab": {
          "base_uri": "https://localhost:8080/",
          "height": 312
        }
      },
      "source": [
        "import  matplotlib.pyplot as plt\n",
        "data.plot()"
      ],
      "execution_count": 8,
      "outputs": [
        {
          "output_type": "execute_result",
          "data": {
            "text/plain": [
              "<matplotlib.axes._subplots.AxesSubplot at 0x7ff4f8a70240>"
            ]
          },
          "metadata": {
            "tags": []
          },
          "execution_count": 8
        },
        {
          "output_type": "display_data",
          "data": {
            "image/png": "[encoded data removed]",
            "text/plain": [
              "<Figure size 432x288 with 1 Axes>"
            ]
          },
          "metadata": {
            "tags": []
          }
        }
      ]
    },
    {
      "cell_type": "markdown",
      "metadata": {
        "id": "OdP0pZv6-KbN",
        "colab_type": "text"
      },
      "source": [
        "**above graph is not stationary so convert it**"
      ]
    },
    {
      "cell_type": "code",
      "metadata": {
        "id": "qG7tQ_eA8Rr-",
        "colab_type": "code",
        "outputId": "be2b0c00-e427-4340-da16-4534404a1c6d",
        "colab": {
          "base_uri": "https://localhost:8080/",
          "height": 228
        }
      },
      "source": [
        "data.head()"
      ],
      "execution_count": 9,
      "outputs": [
        {
          "output_type": "execute_result",
          "data": {
            "text/html": [
              "<div>\n",
              "<style scoped>\n",
              "    .dataframe tbody tr th:only-of-type {\n",
              "        vertical-align: middle;\n",
              "    }\n",
              "\n",
              "    .dataframe tbody tr th {\n",
              "        vertical-align: top;\n",
              "    }\n",
              "\n",
              "    .dataframe thead th {\n",
              "        text-align: right;\n",
              "    }\n",
              "</style>\n",
              "<table border=\"1\" class=\"dataframe\">\n",
              "  <thead>\n",
              "    <tr style=\"text-align: right;\">\n",
              "      <th></th>\n",
              "      <th>Sales</th>\n",
              "    </tr>\n",
              "    <tr>\n",
              "      <th>Month</th>\n",
              "      <th></th>\n",
              "    </tr>\n",
              "  </thead>\n",
              "  <tbody>\n",
              "    <tr>\n",
              "      <th>2016-01-01</th>\n",
              "      <td>266</td>\n",
              "    </tr>\n",
              "    <tr>\n",
              "      <th>2016-02-01</th>\n",
              "      <td>146</td>\n",
              "    </tr>\n",
              "    <tr>\n",
              "      <th>2016-03-01</th>\n",
              "      <td>183</td>\n",
              "    </tr>\n",
              "    <tr>\n",
              "      <th>2016-04-01</th>\n",
              "      <td>119</td>\n",
              "    </tr>\n",
              "    <tr>\n",
              "      <th>2016-05-01</th>\n",
              "      <td>180</td>\n",
              "    </tr>\n",
              "  </tbody>\n",
              "</table>\n",
              "</div>"
            ],
            "text/plain": [
              "            Sales\n",
              "Month            \n",
              "2016-01-01    266\n",
              "2016-02-01    146\n",
              "2016-03-01    183\n",
              "2016-04-01    119\n",
              "2016-05-01    180"
            ]
          },
          "metadata": {
            "tags": []
          },
          "execution_count": 9
        }
      ]
    },
    {
      "cell_type": "code",
      "metadata": {
        "id": "tkF7laPJ-eEg",
        "colab_type": "code",
        "outputId": "71b382b4-1dc4-49ab-e50b-8c66efbdf545",
        "colab": {
          "base_uri": "https://localhost:8080/",
          "height": 1000
        }
      },
      "source": [
        "data_diff = data.diff(periods=1)\n",
        "data_diff = data_diff[1:]\n",
        "data_diff"
      ],
      "execution_count": 10,
      "outputs": [
        {
          "output_type": "execute_result",
          "data": {
            "text/html": [
              "<div>\n",
              "<style scoped>\n",
              "    .dataframe tbody tr th:only-of-type {\n",
              "        vertical-align: middle;\n",
              "    }\n",
              "\n",
              "    .dataframe tbody tr th {\n",
              "        vertical-align: top;\n",
              "    }\n",
              "\n",
              "    .dataframe thead th {\n",
              "        text-align: right;\n",
              "    }\n",
              "</style>\n",
              "<table border=\"1\" class=\"dataframe\">\n",
              "  <thead>\n",
              "    <tr style=\"text-align: right;\">\n",
              "      <th></th>\n",
              "      <th>Sales</th>\n",
              "    </tr>\n",
              "    <tr>\n",
              "      <th>Month</th>\n",
              "      <th></th>\n",
              "    </tr>\n",
              "  </thead>\n",
              "  <tbody>\n",
              "    <tr>\n",
              "      <th>2016-02-01</th>\n",
              "      <td>-120.0</td>\n",
              "    </tr>\n",
              "    <tr>\n",
              "      <th>2016-03-01</th>\n",
              "      <td>37.0</td>\n",
              "    </tr>\n",
              "    <tr>\n",
              "      <th>2016-04-01</th>\n",
              "      <td>-64.0</td>\n",
              "    </tr>\n",
              "    <tr>\n",
              "      <th>2016-05-01</th>\n",
              "      <td>61.0</td>\n",
              "    </tr>\n",
              "    <tr>\n",
              "      <th>2016-06-01</th>\n",
              "      <td>-11.0</td>\n",
              "    </tr>\n",
              "    <tr>\n",
              "      <th>2016-07-01</th>\n",
              "      <td>63.0</td>\n",
              "    </tr>\n",
              "    <tr>\n",
              "      <th>2016-08-01</th>\n",
              "      <td>-7.0</td>\n",
              "    </tr>\n",
              "    <tr>\n",
              "      <th>2016-09-01</th>\n",
              "      <td>-32.0</td>\n",
              "    </tr>\n",
              "    <tr>\n",
              "      <th>2016-10-01</th>\n",
              "      <td>-70.0</td>\n",
              "    </tr>\n",
              "    <tr>\n",
              "      <th>2016-11-01</th>\n",
              "      <td>214.0</td>\n",
              "    </tr>\n",
              "    <tr>\n",
              "      <th>2016-12-01</th>\n",
              "      <td>-151.0</td>\n",
              "    </tr>\n",
              "    <tr>\n",
              "      <th>2017-01-01</th>\n",
              "      <td>8.0</td>\n",
              "    </tr>\n",
              "    <tr>\n",
              "      <th>2017-02-01</th>\n",
              "      <td>-44.0</td>\n",
              "    </tr>\n",
              "    <tr>\n",
              "      <th>2017-03-01</th>\n",
              "      <td>60.0</td>\n",
              "    </tr>\n",
              "    <tr>\n",
              "      <th>2017-04-01</th>\n",
              "      <td>63.0</td>\n",
              "    </tr>\n",
              "    <tr>\n",
              "      <th>2017-05-01</th>\n",
              "      <td>-82.0</td>\n",
              "    </tr>\n",
              "    <tr>\n",
              "      <th>2017-06-01</th>\n",
              "      <td>96.0</td>\n",
              "    </tr>\n",
              "    <tr>\n",
              "      <th>2017-07-01</th>\n",
              "      <td>-61.0</td>\n",
              "    </tr>\n",
              "    <tr>\n",
              "      <th>2017-08-01</th>\n",
              "      <td>78.0</td>\n",
              "    </tr>\n",
              "    <tr>\n",
              "      <th>2017-09-01</th>\n",
              "      <td>-14.0</td>\n",
              "    </tr>\n",
              "    <tr>\n",
              "      <th>2017-10-01</th>\n",
              "      <td>132.0</td>\n",
              "    </tr>\n",
              "    <tr>\n",
              "      <th>2017-11-01</th>\n",
              "      <td>-157.0</td>\n",
              "    </tr>\n",
              "    <tr>\n",
              "      <th>2017-12-01</th>\n",
              "      <td>77.0</td>\n",
              "    </tr>\n",
              "    <tr>\n",
              "      <th>2018-01-01</th>\n",
              "      <td>-2.0</td>\n",
              "    </tr>\n",
              "    <tr>\n",
              "      <th>2018-02-01</th>\n",
              "      <td>100.0</td>\n",
              "    </tr>\n",
              "    <tr>\n",
              "      <th>2018-03-01</th>\n",
              "      <td>-124.0</td>\n",
              "    </tr>\n",
              "    <tr>\n",
              "      <th>2018-04-01</th>\n",
              "      <td>123.0</td>\n",
              "    </tr>\n",
              "    <tr>\n",
              "      <th>2018-05-01</th>\n",
              "      <td>-38.0</td>\n",
              "    </tr>\n",
              "    <tr>\n",
              "      <th>2018-06-01</th>\n",
              "      <td>-11.0</td>\n",
              "    </tr>\n",
              "    <tr>\n",
              "      <th>2018-07-01</th>\n",
              "      <td>100.0</td>\n",
              "    </tr>\n",
              "    <tr>\n",
              "      <th>2018-08-01</th>\n",
              "      <td>-82.0</td>\n",
              "    </tr>\n",
              "    <tr>\n",
              "      <th>2018-09-01</th>\n",
              "      <td>82.0</td>\n",
              "    </tr>\n",
              "    <tr>\n",
              "      <th>2018-10-01</th>\n",
              "      <td>-70.0</td>\n",
              "    </tr>\n",
              "    <tr>\n",
              "      <th>2018-11-01</th>\n",
              "      <td>100.0</td>\n",
              "    </tr>\n",
              "    <tr>\n",
              "      <th>2018-12-01</th>\n",
              "      <td>-40.0</td>\n",
              "    </tr>\n",
              "  </tbody>\n",
              "</table>\n",
              "</div>"
            ],
            "text/plain": [
              "            Sales\n",
              "Month            \n",
              "2016-02-01 -120.0\n",
              "2016-03-01   37.0\n",
              "2016-04-01  -64.0\n",
              "2016-05-01   61.0\n",
              "2016-06-01  -11.0\n",
              "2016-07-01   63.0\n",
              "2016-08-01   -7.0\n",
              "2016-09-01  -32.0\n",
              "2016-10-01  -70.0\n",
              "2016-11-01  214.0\n",
              "2016-12-01 -151.0\n",
              "2017-01-01    8.0\n",
              "2017-02-01  -44.0\n",
              "2017-03-01   60.0\n",
              "2017-04-01   63.0\n",
              "2017-05-01  -82.0\n",
              "2017-06-01   96.0\n",
              "2017-07-01  -61.0\n",
              "2017-08-01   78.0\n",
              "2017-09-01  -14.0\n",
              "2017-10-01  132.0\n",
              "2017-11-01 -157.0\n",
              "2017-12-01   77.0\n",
              "2018-01-01   -2.0\n",
              "2018-02-01  100.0\n",
              "2018-03-01 -124.0\n",
              "2018-04-01  123.0\n",
              "2018-05-01  -38.0\n",
              "2018-06-01  -11.0\n",
              "2018-07-01  100.0\n",
              "2018-08-01  -82.0\n",
              "2018-09-01   82.0\n",
              "2018-10-01  -70.0\n",
              "2018-11-01  100.0\n",
              "2018-12-01  -40.0"
            ]
          },
          "metadata": {
            "tags": []
          },
          "execution_count": 10
        }
      ]
    },
    {
      "cell_type": "markdown",
      "metadata": {
        "id": "_D-a5iUA-8IF",
        "colab_type": "text"
      },
      "source": [
        "**we saw series to be non stationary below  from graph but wgat if we can to do  it by other way**"
      ]
    },
    {
      "cell_type": "code",
      "metadata": {
        "id": "S_5SpfBh-hLX",
        "colab_type": "code",
        "colab": {}
      },
      "source": [
        "from statsmodels.graphics.tsaplots import plot_acf"
      ],
      "execution_count": 0,
      "outputs": []
    },
    {
      "cell_type": "code",
      "metadata": {
        "id": "Lu83Z4OA_LKj",
        "colab_type": "code",
        "outputId": "1a3982a5-7a0f-49e1-a795-119c28db27ce",
        "colab": {
          "base_uri": "https://localhost:8080/",
          "height": 546
        }
      },
      "source": [
        "#stationary\n",
        "plot_acf(data)\n"
      ],
      "execution_count": 12,
      "outputs": [
        {
          "output_type": "execute_result",
          "data": {
            "image/png": "[encoded data removed]",
            "text/plain": [
              "<Figure size 432x288 with 1 Axes>"
            ]
          },
          "metadata": {
            "tags": []
          },
          "execution_count": 12
        },
        {
          "output_type": "display_data",
          "data": {
            "image/png": "[encoded data removed]",
            "text/plain": [
              "<Figure size 432x288 with 1 Axes>"
            ]
          },
          "metadata": {
            "tags": []
          }
        }
      ]
    },
    {
      "cell_type": "code",
      "metadata": {
        "id": "0D-T_85n_NZr",
        "colab_type": "code",
        "outputId": "db40461c-3ef2-4b9d-c2ed-01b893a82094",
        "colab": {
          "base_uri": "https://localhost:8080/",
          "height": 546
        }
      },
      "source": [
        "#nonstationary\n",
        "plot_acf(data_diff)"
      ],
      "execution_count": 13,
      "outputs": [
        {
          "output_type": "execute_result",
          "data": {
            "image/png": "[encoded data removed]",
            "text/plain": [
              "<Figure size 432x288 with 1 Axes>"
            ]
          },
          "metadata": {
            "tags": []
          },
          "execution_count": 13
        },
        {
          "output_type": "display_data",
          "data": {
            "image/png": "[encoded data removed]",
            "text/plain": [
              "<Figure size 432x288 with 1 Axes>"
            ]
          },
          "metadata": {
            "tags": []
          }
        }
      ]
    },
    {
      "cell_type": "code",
      "metadata": {
        "id": "cGkY4YZp_lYo",
        "colab_type": "code",
        "outputId": "c8ad8601-fbcc-4581-f149-400c425cbf7c",
        "colab": {
          "base_uri": "https://localhost:8080/",
          "height": 312
        }
      },
      "source": [
        "data_diff.plot()"
      ],
      "execution_count": 14,
      "outputs": [
        {
          "output_type": "execute_result",
          "data": {
            "text/plain": [
              "<matplotlib.axes._subplots.AxesSubplot at 0x7ff4f897fe48>"
            ]
          },
          "metadata": {
            "tags": []
          },
          "execution_count": 14
        },
        {
          "output_type": "display_data",
          "data": {
            "image/png": "[encoded data removed]",
            "text/plain": [
              "<Figure size 432x288 with 1 Axes>"
            ]
          },
          "metadata": {
            "tags": []
          }
        }
      ]
    },
    {
      "cell_type": "markdown",
      "metadata": {
        "id": "TdT3dvS8AS1g",
        "colab_type": "text"
      },
      "source": [
        "# Applying AR MODEL"
      ]
    },
    {
      "cell_type": "code",
      "metadata": {
        "id": "UBq3kUpo_rpZ",
        "colab_type": "code",
        "colab": {}
      },
      "source": [
        "from statsmodels.tsa.ar_model import AR\n",
        "from sklearn.metrics  import mean_squared_error\n",
        "X = data.values\n",
        "train = X[0:27]\n",
        "test = X[26:]\n",
        "predictions = []\n",
        "model_ar = AR(train)\n",
        "model_ar_fit  = model_ar.fit()"
      ],
      "execution_count": 0,
      "outputs": []
    },
    {
      "cell_type": "code",
      "metadata": {
        "id": "poj20Bg9BUV8",
        "colab_type": "code",
        "colab": {}
      },
      "source": [
        "predictions = model_ar_fit.predict(start = 26,end = 36)"
      ],
      "execution_count": 0,
      "outputs": []
    },
    {
      "cell_type": "code",
      "metadata": {
        "id": "cZ2T5QbzBkCf",
        "colab_type": "code",
        "outputId": "949a68f0-27cf-42cf-a823-e2266c0e855d",
        "colab": {
          "base_uri": "https://localhost:8080/",
          "height": 287
        }
      },
      "source": [
        "plt.plot(test)\n",
        "plt.plot(predictions,color = 'red')"
      ],
      "execution_count": 17,
      "outputs": [
        {
          "output_type": "execute_result",
          "data": {
            "text/plain": [
              "[<matplotlib.lines.Line2D at 0x7ff4f63dc278>]"
            ]
          },
          "metadata": {
            "tags": []
          },
          "execution_count": 17
        },
        {
          "output_type": "display_data",
          "data": {
            "image/png": "[encoded data removed]",
            "text/plain": [
              "<Figure size 432x288 with 1 Axes>"
            ]
          },
          "metadata": {
            "tags": []
          }
        }
      ]
    },
    {
      "cell_type": "markdown",
      "metadata": {
        "id": "GK_sTef7CZ6X",
        "colab_type": "text"
      },
      "source": [
        "# ARIMA\n",
        "\n"
      ]
    },
    {
      "cell_type": "code",
      "metadata": {
        "id": "6P8zJ6L6B3Ez",
        "colab_type": "code",
        "colab": {}
      },
      "source": [
        "from statsmodels.tsa.arima_model import ARIMA"
      ],
      "execution_count": 0,
      "outputs": []
    },
    {
      "cell_type": "code",
      "metadata": {
        "id": "wLqfQ_YCCuhc",
        "colab_type": "code",
        "colab": {}
      },
      "source": [
        "#p,d,q\n",
        "#p = months backward to be taken in to consideration while training\n",
        "#d = order of integration\n",
        "#q = moving average\n",
        "model_arima = ARIMA(train,order = (3,1,2))\n",
        "model_arima_fit = model_arima.fit()"
      ],
      "execution_count": 0,
      "outputs": []
    },
    {
      "cell_type": "code",
      "metadata": {
        "id": "rBqkxti8DLd3",
        "colab_type": "code",
        "outputId": "564a1277-4a18-4774-86a0-bd864172b5b2",
        "colab": {
          "base_uri": "https://localhost:8080/",
          "height": 69
        }
      },
      "source": [
        "predictions = model_arima_fit.forecast(steps = 10)[0]\n",
        "predictions"
      ],
      "execution_count": 27,
      "outputs": [
        {
          "output_type": "execute_result",
          "data": {
            "text/plain": [
              "array([383.93155761, 332.47747538, 419.91250998, 389.1778246 ,\n",
              "       409.21397459, 373.91765096, 413.84902753, 423.08210179,\n",
              "       443.4778941 , 422.17597048])"
            ]
          },
          "metadata": {
            "tags": []
          },
          "execution_count": 27
        }
      ]
    },
    {
      "cell_type": "code",
      "metadata": {
        "id": "GRScxEreD92E",
        "colab_type": "code",
        "outputId": "c8988325-336e-4e25-a167-37b9be55b3a7",
        "colab": {
          "base_uri": "https://localhost:8080/",
          "height": 287
        }
      },
      "source": [
        "plt.plot(test)\n",
        "plt.plot(predictions,color = 'red')"
      ],
      "execution_count": 28,
      "outputs": [
        {
          "output_type": "execute_result",
          "data": {
            "text/plain": [
              "[<matplotlib.lines.Line2D at 0x7ff4f62861d0>]"
            ]
          },
          "metadata": {
            "tags": []
          },
          "execution_count": 28
        },
        {
          "output_type": "display_data",
          "data": {
            "image/png": "[encoded data removed]",
            "text/plain": [
              "<Figure size 432x288 with 1 Axes>"
            ]
          },
          "metadata": {
            "tags": []
          }
        }
      ]
    },
    {
      "cell_type": "code",
      "metadata": {
        "id": "iS1mB9-EEca1",
        "colab_type": "code",
        "outputId": "262eb635-2da5-4ed0-b190-b998ca467dbc",
        "colab": {
          "base_uri": "https://localhost:8080/",
          "height": 52
        }
      },
      "source": [
        "print(model_arima_fit.aic)\n",
        "mean_squared_error(test,predictions)"
      ],
      "execution_count": 29,
      "outputs": [
        {
          "output_type": "stream",
          "text": [
            "292.6686238693915\n"
          ],
          "name": "stdout"
        },
        {
          "output_type": "execute_result",
          "data": {
            "text/plain": [
              "3901.581323648528"
            ]
          },
          "metadata": {
            "tags": []
          },
          "execution_count": 29
        }
      ]
    },
    {
      "cell_type": "code",
      "metadata": {
        "id": "vcL1IOE9FFP1",
        "colab_type": "code",
        "outputId": "b9179628-aca3-4446-a54f-e2bef08c4852",
        "colab": {
          "base_uri": "https://localhost:8080/",
          "height": 1000
        }
      },
      "source": [
        "import itertools\n",
        "p=d=q=range(0,5)\n",
        "pdq = list(itertools.product(p,d,q))\n",
        "pdq"
      ],
      "execution_count": 30,
      "outputs": [
        {
          "output_type": "execute_result",
          "data": {
            "text/plain": [
              "[(0, 0, 0),\n",
              " (0, 0, 1),\n",
              " (0, 0, 2),\n",
              " (0, 0, 3),\n",
              " (0, 0, 4),\n",
              " (0, 1, 0),\n",
              " (0, 1, 1),\n",
              " (0, 1, 2),\n",
              " (0, 1, 3),\n",
              " (0, 1, 4),\n",
              " (0, 2, 0),\n",
              " (0, 2, 1),\n",
              " (0, 2, 2),\n",
              " (0, 2, 3),\n",
              " (0, 2, 4),\n",
              " (0, 3, 0),\n",
              " (0, 3, 1),\n",
              " (0, 3, 2),\n",
              " (0, 3, 3),\n",
              " (0, 3, 4),\n",
              " (0, 4, 0),\n",
              " (0, 4, 1),\n",
              " (0, 4, 2),\n",
              " (0, 4, 3),\n",
              " (0, 4, 4),\n",
              " (1, 0, 0),\n",
              " (1, 0, 1),\n",
              " (1, 0, 2),\n",
              " (1, 0, 3),\n",
              " (1, 0, 4),\n",
              " (1, 1, 0),\n",
              " (1, 1, 1),\n",
              " (1, 1, 2),\n",
              " (1, 1, 3),\n",
              " (1, 1, 4),\n",
              " (1, 2, 0),\n",
              " (1, 2, 1),\n",
              " (1, 2, 2),\n",
              " (1, 2, 3),\n",
              " (1, 2, 4),\n",
              " (1, 3, 0),\n",
              " (1, 3, 1),\n",
              " (1, 3, 2),\n",
              " (1, 3, 3),\n",
              " (1, 3, 4),\n",
              " (1, 4, 0),\n",
              " (1, 4, 1),\n",
              " (1, 4, 2),\n",
              " (1, 4, 3),\n",
              " (1, 4, 4),\n",
              " (2, 0, 0),\n",
              " (2, 0, 1),\n",
              " (2, 0, 2),\n",
              " (2, 0, 3),\n",
              " (2, 0, 4),\n",
              " (2, 1, 0),\n",
              " (2, 1, 1),\n",
              " (2, 1, 2),\n",
              " (2, 1, 3),\n",
              " (2, 1, 4),\n",
              " (2, 2, 0),\n",
              " (2, 2, 1),\n",
              " (2, 2, 2),\n",
              " (2, 2, 3),\n",
              " (2, 2, 4),\n",
              " (2, 3, 0),\n",
              " (2, 3, 1),\n",
              " (2, 3, 2),\n",
              " (2, 3, 3),\n",
              " (2, 3, 4),\n",
              " (2, 4, 0),\n",
              " (2, 4, 1),\n",
              " (2, 4, 2),\n",
              " (2, 4, 3),\n",
              " (2, 4, 4),\n",
              " (3, 0, 0),\n",
              " (3, 0, 1),\n",
              " (3, 0, 2),\n",
              " (3, 0, 3),\n",
              " (3, 0, 4),\n",
              " (3, 1, 0),\n",
              " (3, 1, 1),\n",
              " (3, 1, 2),\n",
              " (3, 1, 3),\n",
              " (3, 1, 4),\n",
              " (3, 2, 0),\n",
              " (3, 2, 1),\n",
              " (3, 2, 2),\n",
              " (3, 2, 3),\n",
              " (3, 2, 4),\n",
              " (3, 3, 0),\n",
              " (3, 3, 1),\n",
              " (3, 3, 2),\n",
              " (3, 3, 3),\n",
              " (3, 3, 4),\n",
              " (3, 4, 0),\n",
              " (3, 4, 1),\n",
              " (3, 4, 2),\n",
              " (3, 4, 3),\n",
              " (3, 4, 4),\n",
              " (4, 0, 0),\n",
              " (4, 0, 1),\n",
              " (4, 0, 2),\n",
              " (4, 0, 3),\n",
              " (4, 0, 4),\n",
              " (4, 1, 0),\n",
              " (4, 1, 1),\n",
              " (4, 1, 2),\n",
              " (4, 1, 3),\n",
              " (4, 1, 4),\n",
              " (4, 2, 0),\n",
              " (4, 2, 1),\n",
              " (4, 2, 2),\n",
              " (4, 2, 3),\n",
              " (4, 2, 4),\n",
              " (4, 3, 0),\n",
              " (4, 3, 1),\n",
              " (4, 3, 2),\n",
              " (4, 3, 3),\n",
              " (4, 3, 4),\n",
              " (4, 4, 0),\n",
              " (4, 4, 1),\n",
              " (4, 4, 2),\n",
              " (4, 4, 3),\n",
              " (4, 4, 4)]"
            ]
          },
          "metadata": {
            "tags": []
          },
          "execution_count": 30
        }
      ]
    },
    {
      "cell_type": "code",
      "metadata": {
        "id": "oP2t0Q9_HeZe",
        "colab_type": "code",
        "outputId": "66a45565-1cfb-420b-ec81-40eaa5229a3a",
        "colab": {
          "base_uri": "https://localhost:8080/",
          "height": 898
        }
      },
      "source": [
        "import warnings\n",
        "warnings.filterwarnings('ignore')\n",
        "for param in pdq:\n",
        "    try:\n",
        "        model_arima = ARIMA(train,order=param)\n",
        "        model_arima_fit = model_arima.fit()\n",
        "        print(param,model_arima_fit.aic)\n",
        "    except:\n",
        "        continue"
      ],
      "execution_count": 31,
      "outputs": [
        {
          "output_type": "stream",
          "text": [
            "(0, 0, 0) 319.45285852307086\n",
            "(0, 0, 1) 318.72448093894775\n",
            "(0, 0, 2) 315.25060028728575\n",
            "(0, 0, 3) nan\n",
            "(0, 0, 4) 310.1669328576465\n",
            "(0, 1, 0) 311.8293983488534\n",
            "(0, 1, 1) 296.08415381062906\n",
            "(0, 1, 2) 296.322922690801\n",
            "(0, 2, 0) 329.1834958250828\n",
            "(0, 2, 1) 306.10194741083694\n",
            "(1, 0, 0) 316.16687175281163\n",
            "(1, 0, 1) 313.0487174416236\n",
            "(1, 0, 2) 310.97906422274696\n",
            "(1, 0, 4) 309.67799311500164\n",
            "(1, 1, 0) 298.8325442271119\n",
            "(1, 1, 1) 297.1256511258501\n",
            "(1, 1, 2) 299.47166670626996\n",
            "(1, 1, 3) 301.2851180947824\n",
            "(1, 1, 4) 299.97873239707604\n",
            "(1, 2, 0) 306.53077675711666\n",
            "(1, 2, 3) nan\n",
            "(2, 0, 0) 310.996957361264\n",
            "(2, 0, 1) 340.65530357675436\n",
            "(2, 0, 4) 331.45166724402554\n",
            "(2, 1, 0) 300.2089561240708\n",
            "(2, 1, 1) 297.9999930167344\n",
            "(2, 1, 2) 298.5505428130323\n",
            "(2, 1, 3) 302.8720828709347\n",
            "(2, 2, 0) 306.2975856431769\n",
            "(2, 2, 3) nan\n",
            "(3, 0, 0) 312.9838587456852\n",
            "(3, 0, 1) 339.8412953038119\n",
            "(3, 0, 4) nan\n",
            "(3, 1, 0) 294.85435842190464\n",
            "(3, 1, 1) 295.99793534185574\n",
            "(3, 1, 2) 292.6686238693915\n",
            "(3, 1, 3) 294.65889075177313\n",
            "(3, 2, 0) 299.4075868155664\n",
            "(3, 2, 4) nan\n",
            "(4, 0, 0) 311.07065620405103\n",
            "(4, 0, 1) 321.92722934802794\n",
            "(4, 0, 2) nan\n",
            "(4, 0, 3) nan\n",
            "(4, 0, 4) nan\n",
            "(4, 1, 0) 295.9343631351905\n",
            "(4, 1, 1) 297.9098817060357\n",
            "(4, 1, 2) 294.66336105685406\n",
            "(4, 1, 3) 296.64552471464077\n",
            "(4, 2, 0) 296.52300724445297\n",
            "(4, 2, 1) 291.39913447173694\n",
            "(4, 2, 4) 292.5300290185096\n"
          ],
          "name": "stdout"
        }
      ]
    },
    {
      "cell_type": "code",
      "metadata": {
        "id": "Az4ZqO5NHkEp",
        "colab_type": "code",
        "colab": {}
      },
      "source": [
        ""
      ],
      "execution_count": 0,
      "outputs": []
    }
  ]
}